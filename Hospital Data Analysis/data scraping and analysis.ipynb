{
 "cells": [
  {
   "cell_type": "code",
   "execution_count": 97,
   "metadata": {},
   "outputs": [],
   "source": [
    "import requests\n",
    "import pandas as pd\n",
    "import datetime as dt\n",
    "from bs4 import BeautifulSoup\n",
    "from datetime import datetime\n",
    "import matplotlib.pyplot as plt\n",
    "\n",
    "url=\"http://sarthak.nhmmp.gov.in/covid/facility-bed-occupancy-details/?show=200&pagenum=1&district_id=1&facility_org_type=0&facility=0\"\n",
    "\n",
    "r = requests.get(url, headers={'User-agent': 'Mozilla/5.0 (X11; Ubuntu; Linux x86_64; rv:61.0) Gecko/20100101 Firefox/61.0'})\n",
    "c=r.content\n",
    "soup=BeautifulSoup(c,\"html.parser\")\n",
    "\n",
    "name=soup.find_all(\"div\",{\"class\":\"hospitalname\"})"
   ]
  },
  {
   "cell_type": "code",
   "execution_count": 98,
   "metadata": {},
   "outputs": [],
   "source": [
    "def get_hosp_name(nm):\n",
    "    start=0\n",
    "    end=0\n",
    "    for a in range(len(nm)):\n",
    "        if nm[a]==\">\" and start==0:\n",
    "            start=a+1\n",
    "        if nm[a]==\"/\" and end==0:\n",
    "            end=a\n",
    "    return str(nm[start:end])"
   ]
  },
  {
   "cell_type": "code",
   "execution_count": 99,
   "metadata": {},
   "outputs": [],
   "source": [
    "def read_label(nam):\n",
    "    x=0\n",
    "    y=0\n",
    "    for a in range(len(nam)):\n",
    "        if nam[a]==\">\" and x==0:\n",
    "            x=a+1\n",
    "        if nam[a]==\"<\" and y==0:\n",
    "            y=a\n",
    "    return str(nam[x:y])"
   ]
  },
  {
   "cell_type": "code",
   "execution_count": 100,
   "metadata": {},
   "outputs": [],
   "source": [
    "def tot_beds(nam):\n",
    "    x=0\n",
    "    y=0\n",
    "    for a in range(1,len(nam)):\n",
    "        if nam[a]==\">\" and x==0:\n",
    "            x=a+1\n",
    "        if nam[a]==\"<\" and y==0:\n",
    "            y=a\n",
    "\n",
    "    return nam[x:y]"
   ]
  },
  {
   "cell_type": "code",
   "execution_count": 101,
   "metadata": {},
   "outputs": [],
   "source": [
    "def decode(st):\n",
    "    x=0\n",
    "    y=0\n",
    "    for a in range(len(st)):\n",
    "        if st[a]==\"/\":\n",
    "            x=a-1\n",
    "            y=a+2\n",
    "            break\n",
    "\n",
    "    return[st[:x],st[y:]]"
   ]
  },
  {
   "cell_type": "code",
   "execution_count": 102,
   "metadata": {},
   "outputs": [],
   "source": [
    "def decode_date(st):\n",
    "    start=0\n",
    "    end=0\n",
    "    for i in range(len(st)):\n",
    "        try:\n",
    "            int(st[i])\n",
    "            start=i\n",
    "            break\n",
    "        except:\n",
    "            pass\n",
    "    for i in range(len(st),0,-1):\n",
    "        try:\n",
    "            int(st[i])\n",
    "            end=i+1\n",
    "            break\n",
    "        except:\n",
    "            pass\n",
    "        \n",
    "    return st[start:end]"
   ]
  },
  {
   "cell_type": "code",
   "execution_count": 103,
   "metadata": {},
   "outputs": [],
   "source": [
    "hospital_list=[]\n",
    "for a in range(len(name)):\n",
    "    hospital_list.append(get_hosp_name(str(name[a])))\n",
    "for a in range(len(hospital_list)):\n",
    "    try:\n",
    "        hospital_list[a]=hospital_list[a].replace(\"&amp;\",\"\")\n",
    "    except:\n",
    "        pass"
   ]
  },
  {
   "cell_type": "code",
   "execution_count": 104,
   "metadata": {},
   "outputs": [],
   "source": [
    "beds=soup.find_all(\"td\",{\"class\":\"text-center\"})\n",
    "\n",
    "isolation=[]\n",
    "oxygen=[]\n",
    "icu=[]\n",
    "for a in range(len(beds)):\n",
    "    labels=beds[a].find_all(\"label\")\n",
    "    for b in range(3):\n",
    "        labels[b]=str(labels[b])\n",
    "    icu.append(int(read_label(labels[2])))\n",
    "    oxygen.append(int(read_label(labels[1])))\n",
    "    isolation.append(int(read_label(labels[0])))"
   ]
  },
  {
   "cell_type": "code",
   "execution_count": 105,
   "metadata": {},
   "outputs": [],
   "source": [
    "total=soup.find_all(\"span\",{\"class\":\"badge bed-status\"})\n",
    "total_beds=[]\n",
    "remaining_beds=[]\n",
    "ret=[]\n",
    "\n",
    "for a in range(len(total)):\n",
    "    l=decode(tot_beds(str(total[a])))\n",
    "    total_beds.append(int(l[0]))\n",
    "    remaining_beds.append(int(l[1]))"
   ]
  },
  {
   "cell_type": "code",
   "execution_count": 106,
   "metadata": {},
   "outputs": [],
   "source": [
    "total=soup.find_all(\"div\",{\"class\":\"last-updated\"})\n",
    "last_updated=[]\n",
    "for a in range(len(total)):\n",
    "    st=decode_date(str(total[a]))\n",
    "    st=st.replace(\",\",\"\")\n",
    "    date_time_str = st\n",
    "    date_time_obj = dt.datetime.strptime(date_time_str, '%d-%m-%Y %H:%M:%S')\n",
    "    last_updated.append(date_time_obj)"
   ]
  },
  {
   "cell_type": "code",
   "execution_count": 107,
   "metadata": {},
   "outputs": [],
   "source": [
    "df = pd.DataFrame([hospital_list,total_beds,remaining_beds,icu,oxygen,isolation,last_updated])\n",
    "df=df.T\n",
    "df.columns =['Hospital','Total','Remaining','ICU','Oxygen','Isolation','Last Updated']"
   ]
  },
  {
   "cell_type": "code",
   "execution_count": 108,
   "metadata": {},
   "outputs": [
    {
     "name": "stdout",
     "output_type": "stream",
     "text": [
      "14 17 32 44\n"
     ]
    }
   ],
   "source": [
    "icu_a=len(df[df[\"ICU\"]>0])\n",
    "oxy_a=len(df[df[\"Oxygen\"]>0])\n",
    "iso_a=len(df[df[\"Isolation\"]>0])\n",
    "any_bed=len(df[(df[\"ICU\"]>0) | (df[\"Isolation\"]>0) | (df[\"Oxygen\"]>0)])\n",
    "print(icu_a,oxy_a,iso_a,any_bed)"
   ]
  },
  {
   "cell_type": "code",
   "execution_count": 109,
   "metadata": {},
   "outputs": [],
   "source": [
    "icu_hosp=(df[df[\"ICU\"]>0])\n",
    "oxy_hosp=(df[df[\"Oxygen\"]>0])\n",
    "iso_hosp=(df[df[\"Isolation\"]>0])\n",
    "any_bed_hosp=df[(df[\"ICU\"]>0) | (df[\"Isolation\"]>0) | (df[\"Oxygen\"]>0)]\n",
    "oi_hosp=df[(df[\"ICU\"]>0) |  (df[\"Oxygen\"]>0)]"
   ]
  },
  {
   "cell_type": "code",
   "execution_count": 110,
   "metadata": {},
   "outputs": [],
   "source": [
    "a=df.sort_values(by=\"Total\",ascending=False,ignore_index=True)"
   ]
  },
  {
   "cell_type": "code",
   "execution_count": 111,
   "metadata": {},
   "outputs": [],
   "source": [
    "now = datetime.now()\n",
    "dt_string = now.strftime(\"%d-%m-%Y\")"
   ]
  },
  {
   "cell_type": "code",
   "execution_count": 112,
   "metadata": {},
   "outputs": [],
   "source": [
    "#analysis generator\n",
    "\n"
   ]
  },
  {
   "cell_type": "code",
   "execution_count": 113,
   "metadata": {},
   "outputs": [],
   "source": [
    "file=\"analysis/EOD \"+dt_string+\".xlsx\"\n",
    "filename = pd.ExcelWriter(file, engine='xlsxwriter')\n",
    "a.to_excel(filename,sheet_name=\"All Hospitals\",index=False)\n",
    "icu_hosp.to_excel(filename,sheet_name=\"ICU Availabe\",index=False)\n",
    "oxy_hosp.to_excel(filename,sheet_name=\"Oxygen Available\",index=False)\n",
    "iso_hosp.to_excel(filename,sheet_name=\"Isolation Available\",index=False)\n",
    "oi_hosp.to_excel(filename,sheet_name=\"ICU or Oxygen Available\",index=False)\n",
    "any_bed_hosp.to_excel(filename,sheet_name=\"Any Bed Available\",index=False)\n",
    "filename.save()"
   ]
  }
 ],
 "metadata": {
  "kernelspec": {
   "display_name": "Python 3",
   "language": "python",
   "name": "python3"
  },
  "language_info": {
   "codemirror_mode": {
    "name": "ipython",
    "version": 3
   },
   "file_extension": ".py",
   "mimetype": "text/x-python",
   "name": "python",
   "nbconvert_exporter": "python",
   "pygments_lexer": "ipython3",
   "version": "3.8.5"
  }
 },
 "nbformat": 4,
 "nbformat_minor": 4
}
